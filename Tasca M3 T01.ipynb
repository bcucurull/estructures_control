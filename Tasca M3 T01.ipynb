{
 "cells": [
  {
   "cell_type": "code",
   "execution_count": 14,
   "id": "e0813f8e",
   "metadata": {},
   "outputs": [],
   "source": [
    "import numpy as np\n",
    "from numpy import random"
   ]
  },
  {
   "cell_type": "markdown",
   "id": "045ecbd7",
   "metadata": {},
   "source": [
    "## Exercici 1\n",
    "Crea una funció que donat un Array d’una dimensió, et faci un resum estadístic bàsic de les dades. Si detecta que l’array té més d’una dimensió, ha de mostrar un missatge d’error."
   ]
  },
  {
   "cell_type": "code",
   "execution_count": 7,
   "id": "39c75045",
   "metadata": {},
   "outputs": [
    {
     "name": "stdout",
     "output_type": "stream",
     "text": [
      "[5 6 9 8 7 4 2 5 6]\n"
     ]
    }
   ],
   "source": [
    "def funcex1(arr):\n",
    "    if arr.ndim == 1:\n",
    "        print(arr)\n",
    "    else:\n",
    "        print(\"Aquest array té més d'una dimensió\")\n",
    "\n",
    "    \n",
    "array1D = np.array([5,6,9,8,7,4,2,5,6])\n",
    "funcex1(array1D)"
   ]
  },
  {
   "cell_type": "markdown",
   "id": "2e83fd97",
   "metadata": {},
   "source": [
    "## Exercici 2\n",
    "Crea una funció que et generi un quadrat NxN de nombres aleatoris entre el 0 i el 100."
   ]
  },
  {
   "cell_type": "code",
   "execution_count": 37,
   "id": "39155b6f",
   "metadata": {},
   "outputs": [
    {
     "name": "stdout",
     "output_type": "stream",
     "text": [
      "[[96 80 81]\n",
      " [76 91  7]\n",
      " [ 1  5 91]]\n"
     ]
    }
   ],
   "source": [
    "def funcex2(N):\n",
    "    x=random.randint(100, size=(N,N))\n",
    "    return x\n",
    "\n",
    "array = funcex2(3)\n",
    "print(array)"
   ]
  },
  {
   "cell_type": "markdown",
   "id": "3c0c88e5",
   "metadata": {},
   "source": [
    "## Exercici 3\n",
    "Crea una funció que donada una taula de dues dimensions (NxM), et calculi els totals per fila i els totals per columna."
   ]
  },
  {
   "cell_type": "code",
   "execution_count": 41,
   "id": "02259a4b",
   "metadata": {},
   "outputs": [
    {
     "data": {
      "text/plain": [
       "([257, 174, 97], [173, 176, 179])"
      ]
     },
     "execution_count": 41,
     "metadata": {},
     "output_type": "execute_result"
    }
   ],
   "source": [
    "def count_rows_columns(array):\n",
    "    columns = list(np.sum(array, axis=0))\n",
    "    rows = list(np.sum(array, axis = 1))\n",
    "    return (rows, columns)\n",
    "\n",
    "count_rows_columns(array)"
   ]
  },
  {
   "cell_type": "markdown",
   "id": "3a26de70",
   "metadata": {},
   "source": [
    "## Exercici 4\n",
    "Implementa manualment una funció que calculi el coeficient de correlació. Informa-te'n sobre els seus usos i interpretació."
   ]
  },
  {
   "cell_type": "code",
   "execution_count": 42,
   "id": "667ef327",
   "metadata": {},
   "outputs": [],
   "source": [
    "def cor(list1, list2):\n",
    "    mean_l1 = sum(list1)/len(list1)\n",
    "    mean_l2 = sum(list2)/len(list2)\n",
    "    cod1 = [x-mean_l1 for x in list1]\n",
    "    cod2 = [x-mean_l2 for x in list2]\n",
    "    numerador = sum(np.multiply(cod1,cod2))\n",
    "    denominador = np.sqrt(sum([x**2 for x in cod1]))*np.sqrt(sum([x**2 for x in cod2]))\n",
    "    corr = numerador / denominador\n",
    "    return corr"
   ]
  },
  {
   "cell_type": "code",
   "execution_count": 43,
   "id": "9804f106",
   "metadata": {},
   "outputs": [
    {
     "data": {
      "text/plain": [
       "0.1922538386132731"
      ]
     },
     "execution_count": 43,
     "metadata": {},
     "output_type": "execute_result"
    }
   ],
   "source": [
    "l1 = [3,4,5,3,4,2,3]\n",
    "l2 =[10,5,7,9,1,1,1]\n",
    "\n",
    "cor(l1,l2)"
   ]
  },
  {
   "cell_type": "code",
   "execution_count": null,
   "id": "49c086a6",
   "metadata": {},
   "outputs": [],
   "source": []
  }
 ],
 "metadata": {
  "kernelspec": {
   "display_name": "Python 3 (ipykernel)",
   "language": "python",
   "name": "python3"
  },
  "language_info": {
   "codemirror_mode": {
    "name": "ipython",
    "version": 3
   },
   "file_extension": ".py",
   "mimetype": "text/x-python",
   "name": "python",
   "nbconvert_exporter": "python",
   "pygments_lexer": "ipython3",
   "version": "3.8.10"
  }
 },
 "nbformat": 4,
 "nbformat_minor": 5
}
