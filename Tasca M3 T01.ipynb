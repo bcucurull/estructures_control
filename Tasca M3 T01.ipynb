{
 "cells": [
  {
   "cell_type": "code",
   "execution_count": 3,
   "id": "e0813f8e",
   "metadata": {},
   "outputs": [],
   "source": [
    "import numpy as np\n",
    "from numpy import random"
   ]
  },
  {
   "cell_type": "markdown",
   "id": "045ecbd7",
   "metadata": {},
   "source": [
    "## Exercici 1\n",
    "Crea una funció que donat un Array d’una dimensió, et faci un resum estadístic bàsic de les dades. Si detecta que l’array té més d’una dimensió, ha de mostrar un missatge d’error."
   ]
  },
  {
   "cell_type": "code",
   "execution_count": 7,
   "id": "39c75045",
   "metadata": {},
   "outputs": [
    {
     "name": "stdout",
     "output_type": "stream",
     "text": [
      "[5 6 9 8 7 4 2 5 6]\n"
     ]
    }
   ],
   "source": [
    "def funcex1(arr):\n",
    "    if arr.ndim == 1:\n",
    "        print(arr)\n",
    "    else:\n",
    "        print(\"Aquest array té més d'una dimensió\")\n",
    "\n",
    "    \n",
    "array1D = np.array([5,6,9,8,7,4,2,5,6])\n",
    "funcex1(array1D)"
   ]
  },
  {
   "cell_type": "markdown",
   "id": "2e83fd97",
   "metadata": {},
   "source": [
    "## Exercici 2\n",
    "Crea una funció que et generi un quadrat NxN de nombres aleatoris entre el 0 i el 100."
   ]
  },
  {
   "cell_type": "code",
   "execution_count": 23,
   "id": "39155b6f",
   "metadata": {},
   "outputs": [
    {
     "name": "stdout",
     "output_type": "stream",
     "text": [
      "[[ 1 13 16]\n",
      " [32 71 76]\n",
      " [ 8 59 59]]\n"
     ]
    }
   ],
   "source": [
    "def funcex2(N):\n",
    "    x=random.randint(100, size=(N,N))\n",
    "    return x\n",
    "\n",
    "array = funcex2(3)\n",
    "print(array)"
   ]
  },
  {
   "cell_type": "markdown",
   "id": "3c0c88e5",
   "metadata": {},
   "source": [
    "## Exercici 3\n",
    "Crea una funció que donada una taula de dues dimensions (NxM), et calculi els totals per fila i els totals per columna."
   ]
  },
  {
   "cell_type": "code",
   "execution_count": 24,
   "id": "02259a4b",
   "metadata": {},
   "outputs": [
    {
     "name": "stdout",
     "output_type": "stream",
     "text": [
      "[ 41 143 151]\n",
      "[ 30 179 126]\n"
     ]
    }
   ],
   "source": [
    "print(np.sum(array, axis=0))\n",
    "    \n",
    "print(np.sum(array, axis = 1))\n"
   ]
  },
  {
   "cell_type": "markdown",
   "id": "3a26de70",
   "metadata": {},
   "source": [
    "## Exercici 4\n",
    "Implementa manualment una funció que calculi el coeficient de correlació. Informa-te'n sobre els seus usos i interpretació."
   ]
  },
  {
   "cell_type": "code",
   "execution_count": null,
   "id": "667ef327",
   "metadata": {},
   "outputs": [],
   "source": []
  }
 ],
 "metadata": {
  "kernelspec": {
   "display_name": "Python 3 (ipykernel)",
   "language": "python",
   "name": "python3"
  },
  "language_info": {
   "codemirror_mode": {
    "name": "ipython",
    "version": 3
   },
   "file_extension": ".py",
   "mimetype": "text/x-python",
   "name": "python",
   "nbconvert_exporter": "python",
   "pygments_lexer": "ipython3",
   "version": "3.9.13"
  }
 },
 "nbformat": 4,
 "nbformat_minor": 5
}
