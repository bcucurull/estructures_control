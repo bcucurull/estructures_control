{
 "cells": [
  {
   "cell_type": "code",
   "execution_count": 4,
   "id": "e0813f8e",
   "metadata": {},
   "outputs": [],
   "source": [
    "import numpy as np\n",
    "from numpy import random\n",
    "import pandas as pd"
   ]
  },
  {
   "cell_type": "markdown",
   "id": "045ecbd7",
   "metadata": {},
   "source": [
    "## Exercici 1\n",
    "Crea una funció que donat un Array d’una dimensió, et faci un resum estadístic bàsic de les dades. Si detecta que l’array té més d’una dimensió, ha de mostrar un missatge d’error."
   ]
  },
  {
   "cell_type": "code",
   "execution_count": 6,
   "id": "39c75045",
   "metadata": {},
   "outputs": [
    {
     "name": "stdout",
     "output_type": "stream",
     "text": [
      "[5 6 9 8 7 4 2 5 6]\n",
      "              0\n",
      "count  9.000000\n",
      "mean   5.777778\n",
      "std    2.108185\n",
      "min    2.000000\n",
      "25%    5.000000\n",
      "50%    6.000000\n",
      "75%    7.000000\n",
      "max    9.000000\n"
     ]
    }
   ],
   "source": [
    "def funcex1(arr):\n",
    "    if arr.ndim == 1:\n",
    "        print(arr)\n",
    "        df_describe = pd.DataFrame(arr)\n",
    "        print(df_describe.describe())\n",
    "    else:\n",
    "        print(\"Aquest array té més d'una dimensió\")\n",
    "\n",
    "    \n",
    "array1D = np.array([5,6,9,8,7,4,2,5,6])\n",
    "funcex1(array1D)"
   ]
  },
  {
   "cell_type": "markdown",
   "id": "2e83fd97",
   "metadata": {},
   "source": [
    "## Exercici 2\n",
    "Crea una funció que et generi un quadrat NxN de nombres aleatoris entre el 0 i el 100."
   ]
  },
  {
   "cell_type": "code",
   "execution_count": 10,
   "id": "39155b6f",
   "metadata": {},
   "outputs": [
    {
     "name": "stdout",
     "output_type": "stream",
     "text": [
      "[[14 98 83 28 59 25 46  6 19 67]\n",
      " [32 73 26 14 98 15 79 27 16 15]\n",
      " [64 34 88 89 64 61 58  6 67 43]\n",
      " [59 66 96 85 60 71 97 45 53 81]\n",
      " [29 59 80 18  3 73 12 58 74 24]\n",
      " [88 37 18 50 12 78 84 88 51 86]\n",
      " [63 23 63 21 27 61 80 15 75 41]\n",
      " [28 32 59 60 37 38 26 49 73  2]\n",
      " [70  9 16 36 76 92 82 74 40 48]\n",
      " [61 94 63 20 11 45 21 64 56 69]]\n",
      "[14 98 83 28 59 25 46  6 19 67]\n",
      "               0\n",
      "count  10.000000\n",
      "mean   44.500000\n",
      "std    31.231217\n",
      "min     6.000000\n",
      "25%    20.500000\n",
      "50%    37.000000\n",
      "75%    65.000000\n",
      "max    98.000000\n",
      "[32 73 26 14 98 15 79 27 16 15]\n",
      "              0\n",
      "count  10.00000\n",
      "mean   39.50000\n",
      "std    31.45102\n",
      "min    14.00000\n",
      "25%    15.25000\n",
      "50%    26.50000\n",
      "75%    62.75000\n",
      "max    98.00000\n",
      "[64 34 88 89 64 61 58  6 67 43]\n",
      "               0\n",
      "count  10.000000\n",
      "mean   57.400000\n",
      "std    24.775436\n",
      "min     6.000000\n",
      "25%    46.750000\n",
      "50%    62.500000\n",
      "75%    66.250000\n",
      "max    89.000000\n",
      "[59 66 96 85 60 71 97 45 53 81]\n",
      "               0\n",
      "count  10.000000\n",
      "mean   71.300000\n",
      "std    17.907478\n",
      "min    45.000000\n",
      "25%    59.250000\n",
      "50%    68.500000\n",
      "75%    84.000000\n",
      "max    97.000000\n",
      "[29 59 80 18  3 73 12 58 74 24]\n",
      "              0\n",
      "count  10.00000\n",
      "mean   43.00000\n",
      "std    28.77885\n",
      "min     3.00000\n",
      "25%    19.50000\n",
      "50%    43.50000\n",
      "75%    69.50000\n",
      "max    80.00000\n",
      "[88 37 18 50 12 78 84 88 51 86]\n",
      "               0\n",
      "count  10.000000\n",
      "mean   59.200000\n",
      "std    29.656553\n",
      "min    12.000000\n",
      "25%    40.250000\n",
      "50%    64.500000\n",
      "75%    85.500000\n",
      "max    88.000000\n",
      "[63 23 63 21 27 61 80 15 75 41]\n",
      "               0\n",
      "count  10.000000\n",
      "mean   46.900000\n",
      "std    24.250773\n",
      "min    15.000000\n",
      "25%    24.000000\n",
      "50%    51.000000\n",
      "75%    63.000000\n",
      "max    80.000000\n",
      "[28 32 59 60 37 38 26 49 73  2]\n",
      "               0\n",
      "count  10.000000\n",
      "mean   40.400000\n",
      "std    20.522075\n",
      "min     2.000000\n",
      "25%    29.000000\n",
      "50%    37.500000\n",
      "75%    56.500000\n",
      "max    73.000000\n",
      "[70  9 16 36 76 92 82 74 40 48]\n",
      "               0\n",
      "count  10.000000\n",
      "mean   54.300000\n",
      "std    28.659108\n",
      "min     9.000000\n",
      "25%    37.000000\n",
      "50%    59.000000\n",
      "75%    75.500000\n",
      "max    92.000000\n",
      "[61 94 63 20 11 45 21 64 56 69]\n",
      "               0\n",
      "count  10.000000\n",
      "mean   50.400000\n",
      "std    26.043553\n",
      "min    11.000000\n",
      "25%    27.000000\n",
      "50%    58.500000\n",
      "75%    63.750000\n",
      "max    94.000000\n"
     ]
    }
   ],
   "source": [
    "def funcex2(N):\n",
    "    x=random.randint(100, size=(N,N))\n",
    "    return x\n",
    "\n",
    "array = funcex2(10)\n",
    "print(array)\n",
    "\n",
    "for i in array:\n",
    "    funcex1(i)"
   ]
  },
  {
   "cell_type": "markdown",
   "id": "3c0c88e5",
   "metadata": {},
   "source": [
    "## Exercici 3\n",
    "Crea una funció que donada una taula de dues dimensions (NxM), et calculi els totals per fila i els totals per columna."
   ]
  },
  {
   "cell_type": "code",
   "execution_count": 11,
   "id": "02259a4b",
   "metadata": {},
   "outputs": [
    {
     "data": {
      "text/plain": [
       "([445, 395, 574, 713, 430, 592, 469, 404, 543, 504],\n",
       " [508, 525, 592, 421, 447, 559, 585, 432, 524, 476])"
      ]
     },
     "execution_count": 11,
     "metadata": {},
     "output_type": "execute_result"
    }
   ],
   "source": [
    "def count_rows_columns(array):\n",
    "    columns = list(np.sum(array, axis=0))\n",
    "    rows = list(np.sum(array, axis = 1))\n",
    "    return (rows, columns)\n",
    "\n",
    "count_rows_columns(array)"
   ]
  },
  {
   "cell_type": "markdown",
   "id": "3a26de70",
   "metadata": {},
   "source": [
    "## Exercici 4\n",
    "Implementa manualment una funció que calculi el coeficient de correlació. Informa-te'n sobre els seus usos i interpretació."
   ]
  },
  {
   "cell_type": "code",
   "execution_count": 42,
   "id": "667ef327",
   "metadata": {},
   "outputs": [],
   "source": [
    "def cor(list1, list2):\n",
    "    mean_l1 = sum(list1)/len(list1)\n",
    "    mean_l2 = sum(list2)/len(list2)\n",
    "    cod1 = [x-mean_l1 for x in list1]\n",
    "    cod2 = [x-mean_l2 for x in list2]\n",
    "    numerador = sum(np.multiply(cod1,cod2))\n",
    "    denominador = np.sqrt(sum([x**2 for x in cod1]))*np.sqrt(sum([x**2 for x in cod2]))\n",
    "    corr = numerador / denominador\n",
    "    return corr"
   ]
  },
  {
   "cell_type": "code",
   "execution_count": 43,
   "id": "9804f106",
   "metadata": {},
   "outputs": [
    {
     "data": {
      "text/plain": [
       "0.1922538386132731"
      ]
     },
     "execution_count": 43,
     "metadata": {},
     "output_type": "execute_result"
    }
   ],
   "source": [
    "l1 = [3,4,5,3,4,2,3]\n",
    "l2 = [10,5,7,9,1,1,1]\n",
    "\n",
    "cor(l1,l2)"
   ]
  },
  {
   "cell_type": "code",
   "execution_count": null,
   "id": "49c086a6",
   "metadata": {},
   "outputs": [],
   "source": []
  }
 ],
 "metadata": {
  "kernelspec": {
   "display_name": "Python 3 (ipykernel)",
   "language": "python",
   "name": "python3"
  },
  "language_info": {
   "codemirror_mode": {
    "name": "ipython",
    "version": 3
   },
   "file_extension": ".py",
   "mimetype": "text/x-python",
   "name": "python",
   "nbconvert_exporter": "python",
   "pygments_lexer": "ipython3",
   "version": "3.8.10"
  }
 },
 "nbformat": 4,
 "nbformat_minor": 5
}
