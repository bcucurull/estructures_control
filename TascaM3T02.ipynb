{
 "cells": [
  {
   "cell_type": "markdown",
   "id": "0448ce30",
   "metadata": {},
   "source": [
    "## Exercici 1\n",
    "Descarrega el data set Airlines Delay: Airline on-time statistics and delay causes i carrega’l a un Pandas Dataframe. Explora les dades que conté, explica breument quines variables hi ha i queda’t únicament amb les columnes que consideris rellevants. Justifica la teva elecció.\n",
    "\n",
    "->Airlines Delay: Airline on-time statistics and delay causes\n",
    "\n",
    " Important\n",
    "\n",
    "Redueix la dimensió del dataset de manera aleatòria per tal d'obtenir un dataset de només 200.000 registres. Tots els exercicis s'han de fer amb aquest dataset reduït."
   ]
  },
  {
   "cell_type": "code",
   "execution_count": 6,
   "id": "02fb40c2",
   "metadata": {},
   "outputs": [
    {
     "data": {
      "text/plain": [
       "array(['AA', 'AS', 'US', 'FL', 'WN', 'B6', 'MQ', 'NW', 'CO', 'XE', 'UA',\n",
       "       'YV', 'DL', '9E', 'OH', 'EV', 'OO', 'F9', 'HA', 'AQ'], dtype=object)"
      ]
     },
     "execution_count": 6,
     "metadata": {},
     "output_type": "execute_result"
    }
   ],
   "source": [
    "import pandas as pd\n",
    "\n",
    "df = pd.read_csv('DelayedFlights.csv')\n",
    "\n",
    "df_random = df.sample(n = 200000)\n",
    "\n",
    "df_random['UniqueCarrier'].unique()"
   ]
  },
  {
   "cell_type": "code",
   "execution_count": 2,
   "id": "9839eec6",
   "metadata": {},
   "outputs": [
    {
     "name": "stdout",
     "output_type": "stream",
     "text": [
      "<class 'pandas.core.frame.DataFrame'>\n",
      "Int64Index: 200000 entries, 1092116 to 43960\n",
      "Data columns (total 30 columns):\n",
      " #   Column             Non-Null Count   Dtype  \n",
      "---  ------             --------------   -----  \n",
      " 0   Unnamed: 0         200000 non-null  int64  \n",
      " 1   Year               200000 non-null  int64  \n",
      " 2   Month              200000 non-null  int64  \n",
      " 3   DayofMonth         200000 non-null  int64  \n",
      " 4   DayOfWeek          200000 non-null  int64  \n",
      " 5   DepTime            200000 non-null  float64\n",
      " 6   CRSDepTime         200000 non-null  int64  \n",
      " 7   ArrTime            199263 non-null  float64\n",
      " 8   CRSArrTime         200000 non-null  int64  \n",
      " 9   UniqueCarrier      200000 non-null  object \n",
      " 10  FlightNum          200000 non-null  int64  \n",
      " 11  TailNum            199999 non-null  object \n",
      " 12  ActualElapsedTime  199112 non-null  float64\n",
      " 13  CRSElapsedTime     199984 non-null  float64\n",
      " 14  AirTime            199112 non-null  float64\n",
      " 15  ArrDelay           199112 non-null  float64\n",
      " 16  DepDelay           200000 non-null  float64\n",
      " 17  Origin             200000 non-null  object \n",
      " 18  Dest               200000 non-null  object \n",
      " 19  Distance           200000 non-null  int64  \n",
      " 20  TaxiIn             199263 non-null  float64\n",
      " 21  TaxiOut            199941 non-null  float64\n",
      " 22  Cancelled          200000 non-null  int64  \n",
      " 23  CancellationCode   200000 non-null  object \n",
      " 24  Diverted           200000 non-null  int64  \n",
      " 25  CarrierDelay       128770 non-null  float64\n",
      " 26  WeatherDelay       128770 non-null  float64\n",
      " 27  NASDelay           128770 non-null  float64\n",
      " 28  SecurityDelay      128770 non-null  float64\n",
      " 29  LateAircraftDelay  128770 non-null  float64\n",
      "dtypes: float64(14), int64(11), object(5)\n",
      "memory usage: 47.3+ MB\n"
     ]
    }
   ],
   "source": [
    "df_random.info()"
   ]
  },
  {
   "cell_type": "markdown",
   "id": "55f9ce5b",
   "metadata": {},
   "source": [
    "## Exercici 2\n",
    "Fes un informe complet del dataset:\n",
    "\n",
    "Resumeix estadísticament el dataset i les columnes d’interès. Fes una anàlisi estadístic del que consideris rellevant.\n",
    "Troba quantes dades faltants hi ha per columna.\n",
    "Crea columnes noves (velocitat mitjana del vol, si ha arribat tard o no...).\n",
    "Fes una taula de les aerolínies amb més endarreriments acumulats.\n",
    "Quins són els vols més llargs? I els més endarrerits? Busca les rutes més llargues i les que acumulen més retards.\n",
    "Aporta allò que consideris rellevant."
   ]
  },
  {
   "cell_type": "code",
   "execution_count": 22,
   "id": "13a2fedf",
   "metadata": {},
   "outputs": [
    {
     "name": "stdout",
     "output_type": "stream",
     "text": [
      "   UniqueCarrier  count\n",
      "17            WN  33646\n",
      "1             AA  17762\n",
      "11            MQ  13376\n",
      "15            UA  12737\n",
      "14            OO  12688\n",
      "6             DL  10382\n",
      "18            XE   9707\n",
      "16            US   8771\n",
      "5             CO   8598\n",
      "7             EV   7645\n",
      "12            NW   7407\n",
      "9             FL   6598\n",
      "19            YV   6594\n",
      "13            OH   5165\n",
      "4             B6   4939\n",
      "0             9E   4750\n",
      "3             AS   3589\n",
      "8             F9   2604\n",
      "10            HA    800\n",
      "2             AQ     74\n"
     ]
    }
   ],
   "source": [
    "import numpy as np\n",
    "# estadistiques generals de totes les variables\n",
    "print(df_random.describe(include='all'))\n",
    "\n",
    "# afegeixo la variable velocitat de cada vol\n",
    "df_random['velocitat'] = df_random['Distance']/df_random['AirTime']\n",
    "\n",
    "# Afegeixo una columna que especifica si hi ha un retard\n",
    "df_random['Delay'] = np.where(df_random['ArrDelay'] > 0, 'Delay', 'No delay')\n",
    "\n",
    "# selecciono les dades en que es produeix un retard en el vol\n",
    "df_delay = df_random[df_random['Delay']=='Delay']\n",
    "\n",
    "print(df_delay.groupby(['UniqueCarrier'])['UniqueCarrier'].size().reset_index(name='count').sort_values(['count'], ascending=False))"
   ]
  },
  {
   "cell_type": "code",
   "execution_count": 4,
   "id": "2bfa1434",
   "metadata": {},
   "outputs": [
    {
     "name": "stdout",
     "output_type": "stream",
     "text": [
      "Unnamed: 0               0\n",
      "Year                     0\n",
      "Month                    0\n",
      "DayofMonth               0\n",
      "DayOfWeek                0\n",
      "DepTime                  0\n",
      "CRSDepTime               0\n",
      "ArrTime                737\n",
      "CRSArrTime               0\n",
      "UniqueCarrier            0\n",
      "FlightNum                0\n",
      "TailNum                  1\n",
      "ActualElapsedTime      888\n",
      "CRSElapsedTime          16\n",
      "AirTime                888\n",
      "ArrDelay               888\n",
      "DepDelay                 0\n",
      "Origin                   0\n",
      "Dest                     0\n",
      "Distance                 0\n",
      "TaxiIn                 737\n",
      "TaxiOut                 59\n",
      "Cancelled                0\n",
      "CancellationCode         0\n",
      "Diverted                 0\n",
      "CarrierDelay         71230\n",
      "WeatherDelay         71230\n",
      "NASDelay             71230\n",
      "SecurityDelay        71230\n",
      "LateAircraftDelay    71230\n",
      "velocitat              888\n",
      "Delay                    0\n",
      "dtype: int64\n"
     ]
    }
   ],
   "source": [
    "# contar NA\n",
    "\n",
    "nan_count = df_random.isna().sum()\n",
    "print(nan_count)"
   ]
  },
  {
   "cell_type": "markdown",
   "id": "9634c009",
   "metadata": {},
   "source": [
    "## Exercici 3\n",
    "Exporta el dataset net i amb les noves columnes a Excel."
   ]
  },
  {
   "cell_type": "code",
   "execution_count": null,
   "id": "dbee27ed",
   "metadata": {},
   "outputs": [],
   "source": []
  }
 ],
 "metadata": {
  "kernelspec": {
   "display_name": "Python 3 (ipykernel)",
   "language": "python",
   "name": "python3"
  },
  "language_info": {
   "codemirror_mode": {
    "name": "ipython",
    "version": 3
   },
   "file_extension": ".py",
   "mimetype": "text/x-python",
   "name": "python",
   "nbconvert_exporter": "python",
   "pygments_lexer": "ipython3",
   "version": "3.9.13"
  }
 },
 "nbformat": 4,
 "nbformat_minor": 5
}
