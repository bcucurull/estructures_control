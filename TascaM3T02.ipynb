{
 "cells": [
  {
   "cell_type": "markdown",
   "id": "0448ce30",
   "metadata": {},
   "source": [
    "## Exercici 1\n",
    "Descarrega el data set Airlines Delay: Airline on-time statistics and delay causes i carrega’l a un Pandas Dataframe. Explora les dades que conté, explica breument quines variables hi ha i queda’t únicament amb les columnes que consideris rellevants. Justifica la teva elecció.\n",
    "\n",
    "->Airlines Delay: Airline on-time statistics and delay causes\n",
    "\n",
    " Important\n",
    "\n",
    "Redueix la dimensió del dataset de manera aleatòria per tal d'obtenir un dataset de només 200.000 registres. Tots els exercicis s'han de fer amb aquest dataset reduït."
   ]
  },
  {
   "cell_type": "code",
   "execution_count": 1,
   "id": "02fb40c2",
   "metadata": {},
   "outputs": [
    {
     "data": {
      "text/plain": [
       "array(['OH', 'OO', 'UA', 'XE', 'NW', 'WN', 'AA', 'DL', 'CO', 'US', 'FL',\n",
       "       'EV', 'MQ', 'HA', 'AS', 'B6', 'F9', 'YV', '9E', 'AQ'], dtype=object)"
      ]
     },
     "execution_count": 1,
     "metadata": {},
     "output_type": "execute_result"
    }
   ],
   "source": [
    "import pandas as pd\n",
    "\n",
    "df = pd.read_csv('DelayedFlights.csv')\n",
    "\n",
    "df_random = df.sample(n = 200000)\n",
    "\n",
    "df_random['UniqueCarrier'].unique()"
   ]
  },
  {
   "cell_type": "code",
   "execution_count": 2,
   "id": "9839eec6",
   "metadata": {},
   "outputs": [
    {
     "name": "stdout",
     "output_type": "stream",
     "text": [
      "<class 'pandas.core.frame.DataFrame'>\n",
      "Int64Index: 200000 entries, 1790245 to 1358229\n",
      "Data columns (total 30 columns):\n",
      " #   Column             Non-Null Count   Dtype  \n",
      "---  ------             --------------   -----  \n",
      " 0   Unnamed: 0         200000 non-null  int64  \n",
      " 1   Year               200000 non-null  int64  \n",
      " 2   Month              200000 non-null  int64  \n",
      " 3   DayofMonth         200000 non-null  int64  \n",
      " 4   DayOfWeek          200000 non-null  int64  \n",
      " 5   DepTime            200000 non-null  float64\n",
      " 6   CRSDepTime         200000 non-null  int64  \n",
      " 7   ArrTime            199231 non-null  float64\n",
      " 8   CRSArrTime         200000 non-null  int64  \n",
      " 9   UniqueCarrier      200000 non-null  object \n",
      " 10  FlightNum          200000 non-null  int64  \n",
      " 11  TailNum            200000 non-null  object \n",
      " 12  ActualElapsedTime  199098 non-null  float64\n",
      " 13  CRSElapsedTime     199983 non-null  float64\n",
      " 14  AirTime            199098 non-null  float64\n",
      " 15  ArrDelay           199098 non-null  float64\n",
      " 16  DepDelay           200000 non-null  float64\n",
      " 17  Origin             200000 non-null  object \n",
      " 18  Dest               200000 non-null  object \n",
      " 19  Distance           200000 non-null  int64  \n",
      " 20  TaxiIn             199231 non-null  float64\n",
      " 21  TaxiOut            199946 non-null  float64\n",
      " 22  Cancelled          200000 non-null  int64  \n",
      " 23  CancellationCode   200000 non-null  object \n",
      " 24  Diverted           200000 non-null  int64  \n",
      " 25  CarrierDelay       129011 non-null  float64\n",
      " 26  WeatherDelay       129011 non-null  float64\n",
      " 27  NASDelay           129011 non-null  float64\n",
      " 28  SecurityDelay      129011 non-null  float64\n",
      " 29  LateAircraftDelay  129011 non-null  float64\n",
      "dtypes: float64(14), int64(11), object(5)\n",
      "memory usage: 47.3+ MB\n"
     ]
    }
   ],
   "source": [
    "df_random.info()"
   ]
  },
  {
   "cell_type": "markdown",
   "id": "55f9ce5b",
   "metadata": {},
   "source": [
    "## Exercici 2\n",
    "Fes un informe complet del dataset:\n",
    "\n",
    "Resumeix estadísticament el dataset i les columnes d’interès. Fes una anàlisi estadístic del que consideris rellevant.\n",
    "Troba quantes dades faltants hi ha per columna.\n",
    "Crea columnes noves (velocitat mitjana del vol, si ha arribat tard o no...).\n",
    "Fes una taula de les aerolínies amb més endarreriments acumulats.\n",
    "Quins són els vols més llargs? I els més endarrerits? Busca les rutes més llargues i les que acumulen més retards.\n",
    "Aporta allò que consideris rellevant."
   ]
  },
  {
   "cell_type": "code",
   "execution_count": 11,
   "id": "13a2fedf",
   "metadata": {},
   "outputs": [
    {
     "name": "stdout",
     "output_type": "stream",
     "text": [
      "          Unnamed: 0      Year          Month     DayofMonth      DayOfWeek  \\\n",
      "count   2.000000e+05  200000.0  200000.000000  200000.000000  200000.000000   \n",
      "unique           NaN       NaN            NaN            NaN            NaN   \n",
      "top              NaN       NaN            NaN            NaN            NaN   \n",
      "freq             NaN       NaN            NaN            NaN            NaN   \n",
      "mean    3.339528e+06    2008.0       6.108070      15.766445       3.979425   \n",
      "std     2.065568e+06       0.0       3.482482       8.772406       1.996009   \n",
      "min     3.300000e+01    2008.0       1.000000       1.000000       1.000000   \n",
      "25%     1.515086e+06    2008.0       3.000000       8.000000       2.000000   \n",
      "50%     3.240484e+06    2008.0       6.000000      16.000000       4.000000   \n",
      "75%     4.968504e+06    2008.0       9.000000      23.000000       6.000000   \n",
      "max     7.009726e+06    2008.0      12.000000      31.000000       7.000000   \n",
      "\n",
      "              DepTime     CRSDepTime       ArrTime     CRSArrTime  \\\n",
      "count   200000.000000  200000.000000  199231.00000  200000.000000   \n",
      "unique            NaN            NaN           NaN            NaN   \n",
      "top               NaN            NaN           NaN            NaN   \n",
      "freq              NaN            NaN           NaN            NaN   \n",
      "mean      1517.895775    1466.334545    1610.26127    1634.455890   \n",
      "std        450.505659     425.178450     547.88251     464.105975   \n",
      "min          1.000000       1.000000       1.00000       0.000000   \n",
      "25%       1202.000000    1133.750000    1315.00000    1325.000000   \n",
      "50%       1544.000000    1510.000000    1715.00000    1707.000000   \n",
      "75%       1900.000000    1815.000000    2031.00000    2015.000000   \n",
      "max       2400.000000    2359.000000    2400.00000    2400.000000   \n",
      "\n",
      "       UniqueCarrier  ...      Cancelled CancellationCode      Diverted  \\\n",
      "count         200000  ...  200000.000000           200000  200000.00000   \n",
      "unique            20  ...            NaN                4           NaN   \n",
      "top               WN  ...            NaN                N           NaN   \n",
      "freq           39160  ...            NaN           199926           NaN   \n",
      "mean             NaN  ...       0.000370              NaN       0.00414   \n",
      "std              NaN  ...       0.019232              NaN       0.06421   \n",
      "min              NaN  ...       0.000000              NaN       0.00000   \n",
      "25%              NaN  ...       0.000000              NaN       0.00000   \n",
      "50%              NaN  ...       0.000000              NaN       0.00000   \n",
      "75%              NaN  ...       0.000000              NaN       0.00000   \n",
      "max              NaN  ...       1.000000              NaN       1.00000   \n",
      "\n",
      "         CarrierDelay   WeatherDelay       NASDelay  SecurityDelay  \\\n",
      "count   129011.000000  129011.000000  129011.000000  129011.000000   \n",
      "unique            NaN            NaN            NaN            NaN   \n",
      "top               NaN            NaN            NaN            NaN   \n",
      "freq              NaN            NaN            NaN            NaN   \n",
      "mean        19.133392       3.719179      14.987567       0.084830   \n",
      "std         43.868777      21.378846      33.904757       1.873178   \n",
      "min          0.000000       0.000000       0.000000       0.000000   \n",
      "25%          0.000000       0.000000       0.000000       0.000000   \n",
      "50%          2.000000       0.000000       1.000000       0.000000   \n",
      "75%         21.000000       0.000000      14.000000       0.000000   \n",
      "max       2436.000000    1225.000000     806.000000     209.000000   \n",
      "\n",
      "       LateAircraftDelay      velocitat   Delay  \n",
      "count      129011.000000  199098.000000  200000  \n",
      "unique               NaN            NaN       2  \n",
      "top                  NaN            NaN   Delay  \n",
      "freq                 NaN            NaN  178040  \n",
      "mean           25.313438       6.613796     NaN  \n",
      "std            41.983511       1.407101     NaN  \n",
      "min             0.000000       0.913462     NaN  \n",
      "25%             0.000000       5.861702     NaN  \n",
      "50%             8.000000       6.730337     NaN  \n",
      "75%            33.000000       7.469916     NaN  \n",
      "max           845.000000     267.000000     NaN  \n",
      "\n",
      "[11 rows x 32 columns]\n",
      "AxesSubplot(0.125,0.11;0.775x0.77)\n"
     ]
    },
    {
     "data": {
      "image/png": "[encoded data removed]",
      "text/plain": [
       "<Figure size 640x480 with 1 Axes>"
      ]
     },
     "metadata": {},
     "output_type": "display_data"
    }
   ],
   "source": [
    "import numpy as np\n",
    "import matplotlib as plt\n",
    "# estadistiques generals de totes les variables\n",
    "print(df_random.describe(include='all'))\n",
    "\n",
    "# afegeixo la variable velocitat de cada vol\n",
    "df_random['velocitat'] = df_random['Distance']/df_random['AirTime']\n",
    "\n",
    "# Afegeixo una columna que especifica si hi ha un retard\n",
    "df_random['Delay'] = np.where(df_random['ArrDelay'] > 0, 'Delay', 'No delay')\n",
    "\n",
    "# selecciono les dades en que es produeix un retard en el vol\n",
    "df_delay = df_random[df_random['Delay']=='Delay']\n",
    "\n",
    "\n",
    "\n",
    "print(df_delay['UniqueCarrier'].value_counts().plot(kind='bar'))"
   ]
  },
  {
   "cell_type": "code",
   "execution_count": 4,
   "id": "2bfa1434",
   "metadata": {},
   "outputs": [
    {
     "name": "stdout",
     "output_type": "stream",
     "text": [
      "Unnamed: 0               0\n",
      "Year                     0\n",
      "Month                    0\n",
      "DayofMonth               0\n",
      "DayOfWeek                0\n",
      "DepTime                  0\n",
      "CRSDepTime               0\n",
      "ArrTime                737\n",
      "CRSArrTime               0\n",
      "UniqueCarrier            0\n",
      "FlightNum                0\n",
      "TailNum                  1\n",
      "ActualElapsedTime      888\n",
      "CRSElapsedTime          16\n",
      "AirTime                888\n",
      "ArrDelay               888\n",
      "DepDelay                 0\n",
      "Origin                   0\n",
      "Dest                     0\n",
      "Distance                 0\n",
      "TaxiIn                 737\n",
      "TaxiOut                 59\n",
      "Cancelled                0\n",
      "CancellationCode         0\n",
      "Diverted                 0\n",
      "CarrierDelay         71230\n",
      "WeatherDelay         71230\n",
      "NASDelay             71230\n",
      "SecurityDelay        71230\n",
      "LateAircraftDelay    71230\n",
      "velocitat              888\n",
      "Delay                    0\n",
      "dtype: int64\n"
     ]
    }
   ],
   "source": [
    "# contar NA\n",
    "\n",
    "nan_count = df_random.isna().sum()\n",
    "print(nan_count)"
   ]
  },
  {
   "cell_type": "markdown",
   "id": "9634c009",
   "metadata": {},
   "source": [
    "## Exercici 3\n",
    "Exporta el dataset net i amb les noves columnes a Excel."
   ]
  },
  {
   "cell_type": "code",
   "execution_count": 4,
   "id": "dbee27ed",
   "metadata": {},
   "outputs": [],
   "source": [
    "df_delay.to_csv('df_delay.csv')"
   ]
  },
  {
   "cell_type": "code",
   "execution_count": 5,
   "id": "b353885e",
   "metadata": {},
   "outputs": [
    {
     "data": {
      "text/plain": [
       "WN    33714\n",
       "AA    17784\n",
       "MQ    13435\n",
       "UA    12870\n",
       "OO    12586\n",
       "DL    10397\n",
       "XE     9659\n",
       "CO     8682\n",
       "US     8612\n",
       "EV     7638\n",
       "NW     7451\n",
       "FL     6757\n",
       "YV     6714\n",
       "OH     5061\n",
       "B6     4983\n",
       "9E     4811\n",
       "AS     3531\n",
       "F9     2561\n",
       "HA      728\n",
       "AQ       66\n",
       "Name: UniqueCarrier, dtype: int64"
      ]
     },
     "execution_count": 5,
     "metadata": {},
     "output_type": "execute_result"
    }
   ],
   "source": [
    "\n",
    "\n"
   ]
  },
  {
   "cell_type": "code",
   "execution_count": null,
   "id": "fea9fb42",
   "metadata": {},
   "outputs": [],
   "source": []
  }
 ],
 "metadata": {
  "kernelspec": {
   "display_name": "Python 3 (ipykernel)",
   "language": "python",
   "name": "python3"
  },
  "language_info": {
   "codemirror_mode": {
    "name": "ipython",
    "version": 3
   },
   "file_extension": ".py",
   "mimetype": "text/x-python",
   "name": "python",
   "nbconvert_exporter": "python",
   "pygments_lexer": "ipython3",
   "version": "3.8.10"
  }
 },
 "nbformat": 4,
 "nbformat_minor": 5
}
