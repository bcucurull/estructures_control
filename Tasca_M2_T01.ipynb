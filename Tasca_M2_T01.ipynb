{
 "cells": [
  {
   "cell_type": "markdown",
   "id": "e72bb5fd",
   "metadata": {},
   "source": [
    "## Exercici 1\n",
    "Crea una llista que agrupi els mesos de l’any en trimestres (1T: gener, febrer i març; 2T: abril, maig, juny...), és a dir, una llista amb 4 llistes dins."
   ]
  },
  {
   "cell_type": "code",
   "execution_count": 168,
   "id": "a8e6e0cc",
   "metadata": {},
   "outputs": [
    {
     "name": "stdout",
     "output_type": "stream",
     "text": [
      "[['gener', 'febrer', 'març'], ['abril', 'maig', 'juny'], ['juliol', 'agost', 'setembre'], ['octubre', 'novembre', 'desembre']]\n"
     ]
    }
   ],
   "source": [
    "llista = [['gener','febrer','març'],['abril','maig','juny'],['juliol','agost','setembre'],['octubre','novembre','desembre']]\n",
    "\n",
    "print(llista)"
   ]
  },
  {
   "cell_type": "markdown",
   "id": "42b2ada6",
   "metadata": {},
   "source": [
    "## Exercici 2\n",
    "Crea un codi que et permeti accedir a:\n",
    "\n",
    "- El segon mes del primer trimestre.\n",
    "\n",
    "- Els mesos del primer trimestre.\n",
    "\n",
    "- Setembre i octubre."
   ]
  },
  {
   "cell_type": "code",
   "execution_count": 170,
   "id": "185ae693",
   "metadata": {},
   "outputs": [
    {
     "name": "stdout",
     "output_type": "stream",
     "text": [
      "El segon mes del primer trimestre és febrer.\n",
      "Els mesos del primer trimestre: ['gener', 'febrer', 'març']\n",
      "Selecciono els mesos de setembre i octubre: ['setembre', 'octubre']\n"
     ]
    }
   ],
   "source": [
    "segon_mes_T1 = llista[0][1]\n",
    "T1 = llista[0]\n",
    "sep_oct = [llista[2][2],llista[3][0]]\n",
    "print(('El segon mes del primer trimestre és {}.'.format(segon_mes_T1)))\n",
    "print(('Els mesos del primer trimestre: {}'.format(T1)))\n",
    "print(('Selecciono els mesos de setembre i octubre: {}'.format(sep_oct)))"
   ]
  },
  {
   "cell_type": "markdown",
   "id": "ab4f43cf",
   "metadata": {},
   "source": [
    "## Exercici 3\n",
    "Crea una llista amb nombres desordenats i respon a les següents preguntes:\n",
    "\n",
    "- Quants números hi ha?\n",
    "- Quantes vegades apareix el número 3.\n",
    "- Quantes vegades apareixen els nombres 3 i 4?\n",
    "- Quin és el número més gran?\n",
    "- Quins són els 3 números més petits?\n",
    "- Quin és el rang d’aquesta llista?"
   ]
  },
  {
   "cell_type": "code",
   "execution_count": 177,
   "id": "bc260e74",
   "metadata": {},
   "outputs": [
    {
     "name": "stdout",
     "output_type": "stream",
     "text": [
      "Hi ha 13 numeros a la llista.\n",
      "Hi ha 1 numeros 3 a la llista.\n",
      "Hi ha 3 numeros 3 o 4 a la llista.\n",
      "El número màxim de la llista és 9.\n",
      "Els tres números més petits són [1, 3, 4].\n",
      "El rang de la llista va de 1 a 9.\n"
     ]
    }
   ],
   "source": [
    "llista = [3,6,5,1,4,7,8,9,6,7,5,6,4]\n",
    "print('Hi ha {} numeros a la llista.'.format(len(llista)))\n",
    "\n",
    "n3 = sum(x == 3 for x in llista)\n",
    "print('Hi ha {} numeros 3 a la llista.'.format(n3))\n",
    "\n",
    "n3o4 = sum(x == 3 or x == 4  for x in llista)\n",
    "print('Hi ha {} numeros 3 o 4 a la llista.'.format(n3o4))\n",
    "\n",
    "print('El número màxim de la llista és {}.'.format(max(llista)))\n",
    "\n",
    "llista_s = sorted(llista)\n",
    "num3 = llista_s[0:3]\n",
    "print('Els tres números més petits són {}.'.format(num3))\n",
    "\n",
    "maxim = max(llista)\n",
    "minim = min(llista)\n",
    "\n",
    "print('El rang de la llista va de {} a {}.'.format(minim,maxim))"
   ]
  },
  {
   "cell_type": "markdown",
   "id": "27a02765",
   "metadata": {},
   "source": [
    "## Exercici 4\n",
    "Crea un diccionari de la següent forma i respon a les preguntes:\n",
    "\n",
    "compra = { \"Pomes\" : {\"Qty\": 5, \"€\": 0.42}, \"Peres\" : {\"Qty\": 3, \"€\": 0.66} }\n",
    "- Afegeix alguna fruita més\n",
    "- Quant han costat les peres en total?\n",
    "- Quantes fruites hem comprat en total?\n",
    "- Quina és la fruita més cara?\n"
   ]
  },
  {
   "cell_type": "code",
   "execution_count": 196,
   "id": "7c9fbc97",
   "metadata": {},
   "outputs": [
    {
     "name": "stdout",
     "output_type": "stream",
     "text": [
      "Afegeixo al diccionari compra les fruites platan i kiwi.\n",
      " {'Pomes': {'Qty': 5, '€': 0.42}, 'Peres': {'Qty': 3, '€': 0.66}, 'Kiwis': {'Qty': 1, '€': 1.62}, 'Platans': {'Qty': 2, '€': 0.99}} \n",
      "Les peres han costat 1.98€.\n",
      "En total s'han comprat 11 fruites.\n",
      "La fruita amb un cost més alt són els Kiwis.\n"
     ]
    }
   ],
   "source": [
    "compra = { \"Pomes\" : {\"Qty\": 5, \"€\": 0.42}, \"Peres\" : {\"Qty\": 3, \"€\": 0.66} }\n",
    "compra[\"Kiwis\"] = {\"Qty\": 1, \"€\": 1.62}\n",
    "compra.update({\"Platans\":{\"Qty\": 2, \"€\": 0.99}})\n",
    "print('Afegeixo al diccionari compra les fruites platan i kiwi.\\n {} '.format(compra))\n",
    "\n",
    "cost_peres = compra['Peres']['€']*compra['Peres']['Qty']\n",
    "\n",
    "print('Les peres han costat {}€.'.format(cost_peres))\n",
    "\n",
    "def num_fruites():\n",
    "    Qty_total = 0\n",
    "    for key in compra:\n",
    "        Qty_total += compra[key]['Qty']\n",
    "    return Qty_total\n",
    "\n",
    "print(\"En total s'han comprat {} fruites.\".format(num_fruites()))\n",
    "\n",
    "def max_fruit():\n",
    "    max_val =0\n",
    "    max_fruit = ''\n",
    "    for key,val in compra.items():\n",
    "        if val['€'] > max_val:\n",
    "            max_val = val['€']\n",
    "            max_fruit = key\n",
    "    return(max_fruit)\n",
    "\n",
    "print('La fruita amb un cost més alt són els {}.'.format(max_fruit()))"
   ]
  }
 ],
 "metadata": {
  "kernelspec": {
   "display_name": "Python 3 (ipykernel)",
   "language": "python",
   "name": "python3"
  },
  "language_info": {
   "codemirror_mode": {
    "name": "ipython",
    "version": 3
   },
   "file_extension": ".py",
   "mimetype": "text/x-python",
   "name": "python",
   "nbconvert_exporter": "python",
   "pygments_lexer": "ipython3",
   "version": "3.9.7"
  }
 },
 "nbformat": 4,
 "nbformat_minor": 5
}
