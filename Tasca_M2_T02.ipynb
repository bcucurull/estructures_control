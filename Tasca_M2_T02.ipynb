{
 "cells": [
  {
   "cell_type": "markdown",
   "id": "f69504e9",
   "metadata": {},
   "source": [
    "## Exercici 1\n",
    "L'exercici consisteix a crear un programa que et classifiqui una variable numèrica en funció de l’escala Suspès/Aprovat/Notable/Excel·lent.\n",
    "\n",
    "Recorda que Suspès < 5, Aprovat > 5 i < 7, Notable > 7 i < 9 i Excel·lent > 9."
   ]
  },
  {
   "cell_type": "code",
   "execution_count": 59,
   "id": "593cc74f",
   "metadata": {},
   "outputs": [
    {
     "name": "stdout",
     "output_type": "stream",
     "text": [
      "Excel·lent\n"
     ]
    }
   ],
   "source": [
    "def ex1(a):\n",
    "    if a < 5:\n",
    "        print('Suspès')\n",
    "    elif a >= 5 and a < 7:\n",
    "        print('Aprovat')\n",
    "    elif a >= 7 and a < 9:\n",
    "        print('Aprovat')\n",
    "    else:\n",
    "        print('Excel·lent')\n",
    "\n",
    "ex1(9)"
   ]
  },
  {
   "cell_type": "markdown",
   "id": "11a54a9f",
   "metadata": {},
   "source": [
    "## Exercici 2\n",
    "Utilitzant el següent tutorial crea un programa que et pregunti dos números. T’ha de mostrar un missatge dient si el primer és més gran, el segon és més gran o són iguals."
   ]
  },
  {
   "cell_type": "code",
   "execution_count": 151,
   "id": "09179304",
   "metadata": {},
   "outputs": [
    {
     "name": "stdout",
     "output_type": "stream",
     "text": [
      "Primer número: 10\n",
      "Segon número: 12\n",
      "El segon és més gran.\n"
     ]
    }
   ],
   "source": [
    "def ex2(a,b):\n",
    "    if a > b:\n",
    "        print('El primer és més gran.')\n",
    "    else:\n",
    "        print('El segon és més gran.')\n",
    "\n",
    "def imput():    \n",
    "    a = input(\"Primer número: \")\n",
    "    b = input(\"Segon número: \")\n",
    "    ex2(a,b)\n",
    "    \n",
    "imput()"
   ]
  },
  {
   "cell_type": "markdown",
   "id": "32d3debc",
   "metadata": {},
   "source": [
    "## Exercici 3\n",
    "Crea un programa que et pregunti el teu nom, i et demani un número. Si el número és 0, hauria de mostrar un missatge d’error. En cas contrari, hauria de mostrar el nom repetit tants cops com indiqui el número. Per exemple, “Joan Joan Joan”."
   ]
  },
  {
   "cell_type": "code",
   "execution_count": 1,
   "id": "ba360b7c",
   "metadata": {},
   "outputs": [
    {
     "name": "stdout",
     "output_type": "stream",
     "text": [
      "Introdueix el teu nom: Bernat\n",
      "i un número: 5\n",
      "Bernat Bernat Bernat Bernat Bernat \n"
     ]
    }
   ],
   "source": [
    "def imputex3():    \n",
    "    nom = input(\"Introdueix el teu nom: \")\n",
    "    num = input(\"i un número: \")\n",
    "    print(int(num)*(nom+' '))\n",
    "    \n",
    "imputex3()"
   ]
  },
  {
   "cell_type": "markdown",
   "id": "11798ed3",
   "metadata": {},
   "source": [
    "## Exercici 4\n",
    "Crea un programa que donada una llista qualsevol, et digui si és simètrica o no. Si ho és, que et digui quants elements té."
   ]
  },
  {
   "cell_type": "code",
   "execution_count": 4,
   "id": "a82212d9",
   "metadata": {},
   "outputs": [
    {
     "name": "stdout",
     "output_type": "stream",
     "text": [
      "La llista [5, 4, 3, 2, 1, 90, 3, 4, 5] no és simètrica.\n",
      "La llista [5, 4, 3, 2, 1, 1, 2, 3, 4, 5] és simètrica i té 10 elements.\n",
      "La llista [5, 4, 3, 2, 1, 2, 3, 4, 5] és simètrica i té 9 elements.\n"
     ]
    }
   ],
   "source": [
    "def funcioex4(llista):\n",
    "    bool_list = []\n",
    "    for i in range(len(llista)):\n",
    "        bool_list.append(llista[i] == llista[-(i+1)])\n",
    "    if all(bool_list):\n",
    "        print('La llista {} és simètrica i té {} elements.'.format(llista,len(llista)))\n",
    "    else:\n",
    "        print('La llista {} no és simètrica.'.format(llista))\n",
    "\n",
    "b = [5,4,3,2,1,90,3,4,5]\n",
    "funcioex4(b)\n",
    "\n",
    "a = [5,4,3,2,1,1,2,3,4,5]\n",
    "funcioex4(a)\n",
    "\n",
    "c = [5,4,3,2,1,2,3,4,5]\n",
    "funcioex4(c)"
   ]
  },
  {
   "cell_type": "markdown",
   "id": "7ae4fbd3",
   "metadata": {},
   "source": [
    "## Exercici 5\n",
    "Crea un programa que donada una llista, et digui quants números coincideixen amb la seva posició. Per exemple [3,4,2,0,2,3,6] el 2 i el 6 coincideixen."
   ]
  },
  {
   "cell_type": "code",
   "execution_count": 150,
   "id": "7249150a",
   "metadata": {},
   "outputs": [
    {
     "name": "stdout",
     "output_type": "stream",
     "text": [
      "Coincideixen amb la seva posició 2 numeros.\n"
     ]
    }
   ],
   "source": [
    "def funcioex4(llista):\n",
    "    pos = 0\n",
    "    for i in range(len(llista)):\n",
    "        pos += (i == llista[i])\n",
    "    print('Coincideixen amb la seva posició {} numeros.'.format(pos))\n",
    "\n",
    "funcioex4([3,4,2,0,2,3,6])"
   ]
  }
 ],
 "metadata": {
  "kernelspec": {
   "display_name": "Python 3 (ipykernel)",
   "language": "python",
   "name": "python3"
  },
  "language_info": {
   "codemirror_mode": {
    "name": "ipython",
    "version": 3
   },
   "file_extension": ".py",
   "mimetype": "text/x-python",
   "name": "python",
   "nbconvert_exporter": "python",
   "pygments_lexer": "ipython3",
   "version": "3.9.7"
  }
 },
 "nbformat": 4,
 "nbformat_minor": 5
}
